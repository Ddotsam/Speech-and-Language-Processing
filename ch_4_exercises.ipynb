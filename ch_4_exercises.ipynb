{
 "cells": [
  {
   "cell_type": "code",
   "execution_count": 1,
   "id": "c0ef45b6-3592-4337-8a23-30bfb0ca5c9a",
   "metadata": {},
   "outputs": [],
   "source": [
    "import pandas as pd\n",
    "import math\n",
    "import re"
   ]
  },
  {
   "cell_type": "code",
   "execution_count": 2,
   "id": "af57c7db-4258-4172-946b-9f307198d97d",
   "metadata": {},
   "outputs": [],
   "source": [
    "q2_data = {\n",
    "    'sentence': ['fun couple love love', \n",
    "                 'fast furious shoot', \n",
    "                 'couple fly fast fun fun', \n",
    "                 'furious shoot shoot fun', \n",
    "                 'fly fast shoot love',\n",
    "                ],\n",
    "    'class': ['comedy',\n",
    "              'action',\n",
    "              'comedy', \n",
    "              'action',\n",
    "              'action',\n",
    "             ]\n",
    "    \n",
    "}\n",
    "q2_train = pd.DataFrame(q2_data)\n",
    "\n",
    "reviews_data = {\n",
    "    'sentence': [\"I am very satisfied with my purchase of the Echo Dot 5th generation! The sound is much better than I expected, and the audio quality is impressive for its size. Alexa responds quickly to my commands and helps me with daily tasks, from playing music to controlling my smart devices. Additionally, its design is sleek and easy to integrate into any room. The seller was very quick with shipping, and the product arrived in perfect condition. I will definitely recommend both the product and the seller! Thank you for a great shopping experience.\",\n",
    "                 \"This is the best investment that I have made. the sound is perfect. I can automate my apartment using alexa. My only complaint is the light they provided with. It is just a mediocre light. But, the fact that I got both at $22 is the most fantastic steal. Would definitely recommend!\",\n",
    "                 \"I love both I have almost one year using they work perfectly\",\n",
    "                 \"Works great with Alexa. Fun colors. Still figuring out how to connect it to other household members phones. The bulb, not echo.\",\n",
    "                 \"I purchased the echo and Smart bulb on a Christmas deal for a great price. I was not looking for a lightbulb, but it was included with the purchase. However, I do love the new lightbulb. My son thinks it’s great that we can change the colors of the lightbulb, I also love that it is adjustable to different levels depending on the needed brightness. As always, I love my Alexa echo and have synced them throughout the house. The speaker is amazing and Alexa is receptive to voice commands at all times. Even my toddler loves to talk to Alexa! I have an Alexa in almost every room at this point, and I’m not sure how we lived without her before! The combination of the echo and the lightbulb is perfect and I am so glad I was able to get both of these products for a great price.\",\n",
    "                 \"Isn't work.. the first month work perfectly but now I have to unplug and plug in again to make work for cuplé times and after a need to disconnected and connect again from the power and leave reset all the time I want to use.. how I can fix this\",\n",
    "                 \"I don't appreciate them naming two different products the same name. If it says 5th generation there shouldn't be TWO 5th generations. One w a clock display & one without a clock displace. Name them something different ?! Now I'm suck with one I dont want. Frankly that's pretty stupid.\",\n",
    "                 \"Got this Echo Dot to run routines triggered when room is occupied or unoccupied. Previously had Echo Flex with motion sensors which worked great. Assumed these more expensive and newer models would work at least as well. They do not! Have tried adjusting the sensitivity and distance settings to no avail. Rarely does the Echo Dot detect my motion to trigger my routines although sometimes the cat triggers it in the middle of the night. Extremely frustrating and disappointing.\",\n",
    "                ],\n",
    "    'class': ['positive',\n",
    "              'positive',\n",
    "              'positive',\n",
    "              'positive',\n",
    "              'positive',\n",
    "              'negative',\n",
    "              'negative',\n",
    "              'negative',\n",
    "             ]\n",
    "}\n",
    "reviews_train = pd.DataFrame(reviews_data)"
   ]
  },
  {
   "cell_type": "code",
   "execution_count": 3,
   "id": "d10ddde7-79bf-425d-a4bc-031f046f90d8",
   "metadata": {},
   "outputs": [],
   "source": [
    "def generateClassProbs(train_df):\n",
    "    class_counts = {}\n",
    "    for class_name in train_df['class']:\n",
    "        if not class_name in class_counts:\n",
    "            class_counts[class_name] = 0\n",
    "        class_counts[class_name] += 1\n",
    "    class_probs = {name: math.log(count / len(train_df['class'])) for name, count in class_counts.items()}\n",
    "    \n",
    "    return class_probs\n",
    "\n",
    "def generateUniqueWordsByDoc(train_df):\n",
    "    unique_words_by_doc = {class_name: list() for class_name in train_df['class']}\n",
    "    for index in range(len(train_df)):\n",
    "        gold_class = train_df['class'][index]\n",
    "        unique_words_by_doc[gold_class].append(set(train_df['sentence'][index].split()))\n",
    "        \n",
    "    return unique_words_by_doc\n",
    "\n",
    "def generateBinarizedCounts(train_df, uniq_words_doc):\n",
    "    binarized_counts = {key: dict() for key in uniq_words_doc.keys()}\n",
    "    for key in uniq_words_doc.keys():\n",
    "        list_of_words = uniq_words_doc[key]\n",
    "        for word_set in list_of_words:\n",
    "            for word in word_set:\n",
    "                if not word in binarized_counts[key]:\n",
    "                    binarized_counts[key][word] = 0\n",
    "                binarized_counts[key][word] += 1\n",
    "                \n",
    "    return binarized_counts\n",
    "\n",
    "def getVocabularySize(bin_counts):\n",
    "    class_vocab_size = {}\n",
    "    for classification in bin_counts.keys():\n",
    "        class_vocab_size[classification] = 0\n",
    "        for count in bin_counts[classification].values():\n",
    "            class_vocab_size[classification] += count\n",
    "            \n",
    "    return class_vocab_size\n",
    "\n",
    "def negateSentences(train_df):\n",
    "    negated_sentences = []\n",
    "    \n",
    "    for sentence in train_df['sentence']:\n",
    "        negative_word = False\n",
    "        negated_review = []\n",
    "        for token in sentence.split():\n",
    "            if negative_word:\n",
    "                token = 'NOT_'+token\n",
    "                if any(punc in token for punc in ('!', '.', '?', ';', ':', ',')):\n",
    "                    negative_word = False\n",
    "            if any(negator in token for negator in (\"n't\", 'not', 'no', 'never', \"n’t\", 'dont', 'wont', 'cant', 'isnt')):\n",
    "                negative_word = True\n",
    "            negated_review.append(token)\n",
    "        negated_sentence = ' '.join(negated_review)\n",
    "        negated_sentences.append(negated_sentence)\n",
    "    train_df['sentence'] = negated_sentences\n",
    "\n",
    "    return train_df"
   ]
  },
  {
   "cell_type": "code",
   "execution_count": 4,
   "id": "f3c7b5d1-7c95-4440-9a72-b4dd41dad4b4",
   "metadata": {},
   "outputs": [],
   "source": [
    "def nieveBays(document, train_df):\n",
    "    class_probs = generateClassProbs(train_df)\n",
    "    unique_words_by_doc = generateUniqueWordsByDoc(train_df)\n",
    "    binarized_counts = generateBinarizedCounts(train_df, unique_words_by_doc)\n",
    "    vocab_size_by_class = getVocabularySize(binarized_counts)\n",
    "    train_df = negateSentences(train_df)\n",
    "\n",
    "    new_tok = document.split()\n",
    "    vocab_size = len(new_tok)\n",
    "    post_probs = {key: 0 for key in binarized_counts.keys()}\n",
    "    for classification in post_probs.keys():\n",
    "        probs_list = []\n",
    "        for word in new_tok:\n",
    "            if word in binarized_counts[classification]:\n",
    "                prob = (binarized_counts[classification][word] + 1) / (vocab_size_by_class[classification] + vocab_size)\n",
    "            else:\n",
    "                prob = 1 / (vocab_size_by_class[classification] + vocab_size)\n",
    "            probs_list.append(math.log(prob))\n",
    "        post_probs[classification] = sum(probs_list) + class_probs[classification]\n",
    "    \n",
    "    return  (max(post_probs, key=post_probs.get), post_probs)"
   ]
  },
  {
   "cell_type": "code",
   "execution_count": 5,
   "id": "639ed2b2-2bbd-4f15-b115-d4cf29d51052",
   "metadata": {},
   "outputs": [
    {
     "name": "stdout",
     "output_type": "stream",
     "text": [
      "The predicted class is action.\n",
      "The log posterier probabilities are: {'comedy': -8.006784147535463, 'action': -6.9081718588673535}.\n"
     ]
    }
   ],
   "source": [
    "new_doc = 'fast couple shoot fly'\n",
    "predicted_class, log_posterier_probs = nieveBays(new_doc, q2_data)\n",
    "print(f'The predicted class is {predicted_class}.\\nThe log posterier probabilities are: {log_posterier_probs}.')"
   ]
  },
  {
   "cell_type": "code",
   "execution_count": 6,
   "id": "bda213c7-18f6-47f2-8f29-c6cb756520e7",
   "metadata": {},
   "outputs": [
    {
     "name": "stdout",
     "output_type": "stream",
     "text": [
      "The predicted class is negative.\n",
      "The log posterier probabilities are: {'positive': -541.4312451028625, 'negative': -520.3253505424128}.\n"
     ]
    }
   ],
   "source": [
    "new_review = \"\"\"I still want to return this but I've been out of town and missed the window for returns. Let me tell you about this: it would never ever hold a radio station. The chat bot would tell me again and again to restore factory settings. I did that half a dozen times and still had the same problem. So I plugged in my old Alexa and voila! No problem dropping the radio station. In fact I noticed the sound was better and the cord is longer. I'd rather keep what I've got and send the blue blob right back to Amazon.\"\"\"\n",
    "predicted_class, log_poster_probs = nieveBays(new_review, reviews_train)\n",
    "print(f'The predicted class is {predicted_class}.\\nThe log posterier probabilities are: {log_poster_probs}.')"
   ]
  }
 ],
 "metadata": {
  "kernelspec": {
   "display_name": "Python 3 (ipykernel)",
   "language": "python",
   "name": "python3"
  },
  "language_info": {
   "codemirror_mode": {
    "name": "ipython",
    "version": 3
   },
   "file_extension": ".py",
   "mimetype": "text/x-python",
   "name": "python",
   "nbconvert_exporter": "python",
   "pygments_lexer": "ipython3",
   "version": "3.11.7"
  }
 },
 "nbformat": 4,
 "nbformat_minor": 5
}
